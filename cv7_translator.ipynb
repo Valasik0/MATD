{
  "nbformat": 4,
  "nbformat_minor": 0,
  "metadata": {
    "colab": {
      "provenance": [],
      "mount_file_id": "1bvbrc9svdRq5ESaR5mMahLD5kfpEdVMg",
      "authorship_tag": "ABX9TyM9SQCnLDxr7PkPnP/wPj4X",
      "include_colab_link": true
    },
    "kernelspec": {
      "name": "python3",
      "display_name": "Python 3"
    },
    "language_info": {
      "name": "python"
    }
  },
  "cells": [
    {
      "cell_type": "markdown",
      "metadata": {
        "id": "view-in-github",
        "colab_type": "text"
      },
      "source": [
        "<a href=\"https://colab.research.google.com/github/Valasik0/MATD/blob/cv7-translator/cv7_translator.ipynb\" target=\"_parent\"><img src=\"https://colab.research.google.com/assets/colab-badge.svg\" alt=\"Open In Colab\"/></a>"
      ]
    },
    {
      "cell_type": "code",
      "execution_count": 1,
      "metadata": {
        "id": "ICAoFcjmcxm_"
      },
      "outputs": [],
      "source": [
        "import io"
      ]
    },
    {
      "cell_type": "code",
      "source": [
        "def load_vectors(fname):\n",
        "    fin = io.open(fname, 'r', encoding='utf-8', newline='\\n', errors='ignore')\n",
        "    n, d = map(int, fin.readline().split())\n",
        "    data = {}\n",
        "    for line in fin:\n",
        "        tokens = line.rstrip().split(' ')\n",
        "        data[tokens[0]] = map(float, tokens[1:])\n",
        "    return data"
      ],
      "metadata": {
        "id": "XeGAExuWkGDi"
      },
      "execution_count": 2,
      "outputs": []
    },
    {
      "cell_type": "code",
      "source": [
        "cs_vectors = load_vectors(\"/content/drive/MyDrive/MATD/cc.cs.300.vec\")"
      ],
      "metadata": {
        "colab": {
          "base_uri": "https://localhost:8080/",
          "height": 145
        },
        "id": "7ywtaq1LkRoU",
        "outputId": "cadc393b-b45f-4e8e-959d-cf35e6ff9d7e"
      },
      "execution_count": 1,
      "outputs": [
        {
          "output_type": "error",
          "ename": "NameError",
          "evalue": "name 'load_vectors' is not defined",
          "traceback": [
            "\u001b[0;31m---------------------------------------------------------------------------\u001b[0m",
            "\u001b[0;31mNameError\u001b[0m                                 Traceback (most recent call last)",
            "\u001b[0;32m<ipython-input-1-28c207a90869>\u001b[0m in \u001b[0;36m<cell line: 0>\u001b[0;34m()\u001b[0m\n\u001b[0;32m----> 1\u001b[0;31m \u001b[0mcs_vectors\u001b[0m \u001b[0;34m=\u001b[0m \u001b[0mload_vectors\u001b[0m\u001b[0;34m(\u001b[0m\u001b[0;34m\"/content/drive/MyDrive/MATD/cc.cs.300.vec\"\u001b[0m\u001b[0;34m)\u001b[0m\u001b[0;34m\u001b[0m\u001b[0;34m\u001b[0m\u001b[0m\n\u001b[0m",
            "\u001b[0;31mNameError\u001b[0m: name 'load_vectors' is not defined"
          ]
        }
      ]
    },
    {
      "cell_type": "code",
      "source": [
        "en_vectors = load_vectors(\"/content/drive/MyDrive/MATD/cc.en.300.vec\")"
      ],
      "metadata": {
        "id": "Fv31WQUGt0H3"
      },
      "execution_count": null,
      "outputs": []
    },
    {
      "cell_type": "code",
      "source": [
        "train_words = set()\n",
        "with open(\"/content/drive/MyDrive/MATD/cs-en.0-5000.txt\", \"r\", encoding=\"utf-8\") as f:\n",
        "    for line in f:\n",
        "        cz, _ = line.strip().split('\\t')\n",
        "        train_words.add(cz)"
      ],
      "metadata": {
        "id": "ngeGC3X3wIn4"
      },
      "execution_count": 3,
      "outputs": []
    },
    {
      "cell_type": "code",
      "source": [
        "test_words = set()\n",
        "with open(\"/content/drive/MyDrive/MATD/cs-en.5000-6500.txt\", \"r\", encoding=\"utf-8\") as f:\n",
        "    for line in f:\n",
        "        cz, _ = line.strip().split('\\t')\n",
        "        train_words.add(cz)"
      ],
      "metadata": {
        "id": "XbrVYY2ZwUBf"
      },
      "execution_count": null,
      "outputs": []
    }
  ]
}